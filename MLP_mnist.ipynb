{
 "cells": [
  {
   "cell_type": "code",
   "execution_count": 7,
   "metadata": {},
   "outputs": [],
   "source": [
    "from keras.utils import np_utils\n",
    "from keras.datasets import mnist\n",
    "import seaborn as sns\n",
    "import matplotlib.pyplot as plt"
   ]
  },
  {
   "cell_type": "code",
   "execution_count": 8,
   "metadata": {},
   "outputs": [
    {
     "name": "stdout",
     "output_type": "stream",
     "text": [
      "(28, 28)\n"
     ]
    },
    {
     "data": {
      "image/png": "[encoded data removed]",
      "text/plain": [
       "<matplotlib.figure.Figure at 0x1923f0a4668>"
      ]
     },
     "metadata": {},
     "output_type": "display_data"
    }
   ],
   "source": [
    "#splitting data into trainig and testing \n",
    "(xtrain,ytrain),(xtest,ytest)=mnist.load_data()\n",
    "\n",
    "# just to plot an image \n",
    "import matplotlib.image as mpimg\n",
    "print(xtrain[1].shape)\n",
    "imgplot = plt.imshow(xtrain[5])\n",
    "plt.show()"
   ]
  },
  {
   "cell_type": "code",
   "execution_count": 9,
   "metadata": {},
   "outputs": [
    {
     "name": "stdout",
     "output_type": "stream",
     "text": [
      "(60000, 784)\n",
      "(10000, 784)\n"
     ]
    }
   ],
   "source": [
    "xtrain=xtrain.reshape(xtrain.shape[0],xtrain.shape[1]*xtrain.shape[2])\n",
    "xtest=xtest.reshape(xtest.shape[0],xtest.shape[1]*xtest.shape[2])\n",
    "print(xtrain.shape)\n",
    "print(xtest.shape)"
   ]
  },
  {
   "cell_type": "code",
   "execution_count": 10,
   "metadata": {},
   "outputs": [],
   "source": [
    "# data Normalisation\n",
    "xtrain=xtrain/255\n",
    "xtest=xtest/255\n"
   ]
  },
  {
   "cell_type": "code",
   "execution_count": 11,
   "metadata": {},
   "outputs": [
    {
     "name": "stdout",
     "output_type": "stream",
     "text": [
      "4\n",
      "9\n",
      "[0. 0. 0. 0. 1. 0. 0. 0. 0. 0.]\n",
      "[0. 0. 0. 0. 0. 0. 0. 0. 0. 1.]\n"
     ]
    }
   ],
   "source": [
    "#  convert  to one hot encoding\n",
    "print(ytrain[9])\n",
    "print(ytest[9])\n",
    "ytrain=np_utils.to_categorical(ytrain,10)\n",
    "ytest=np_utils.to_categorical(ytest,10)\n",
    "print(ytrain[9])\n",
    "print(ytest[9])"
   ]
  },
  {
   "cell_type": "code",
   "execution_count": 31,
   "metadata": {},
   "outputs": [],
   "source": [
    "from tensorflow.keras.models import Sequential\n",
    "from tensorflow.keras.layers import Dense, Activation,  Dropout\n",
    "from keras.initializers import RandomNormal\n"
   ]
  },
  {
   "cell_type": "code",
   "execution_count": 68,
   "metadata": {},
   "outputs": [],
   "source": [
    "model = Sequential()\n",
    "model.add(Dense(32,input_dim=784,activation='sigmoid'))\n",
    "model.add(Dense(16,activation='sigmoid'))\n",
    "\n",
    "model.add(Dense(10,activation='softmax'))"
   ]
  },
  {
   "cell_type": "code",
   "execution_count": 69,
   "metadata": {},
   "outputs": [],
   "source": [
    "model.compile(optimizer='adam',loss='categorical_crossentropy', metrics=['accuracy'])"
   ]
  },
  {
   "cell_type": "code",
   "execution_count": 70,
   "metadata": {},
   "outputs": [
    {
     "name": "stdout",
     "output_type": "stream",
     "text": [
      "Train on 60000 samples, validate on 10000 samples\n",
      "Epoch 1/15\n",
      "60000/60000 [==============================] - 4s 59us/sample - loss: 1.1879 - accuracy: 0.7216 - val_loss: 0.5542 - val_accuracy: 0.8937\n",
      "Epoch 2/15\n",
      "60000/60000 [==============================] - 3s 47us/sample - loss: 0.4132 - accuracy: 0.9046 - val_loss: 0.3216 - val_accuracy: 0.9193\n",
      "Epoch 3/15\n",
      "60000/60000 [==============================] - 3s 46us/sample - loss: 0.2805 - accuracy: 0.9258 - val_loss: 0.2501 - val_accuracy: 0.9331\n",
      "Epoch 4/15\n",
      "60000/60000 [==============================] - 3s 46us/sample - loss: 0.2249 - accuracy: 0.9383 - val_loss: 0.2129 - val_accuracy: 0.9419\n",
      "Epoch 5/15\n",
      "60000/60000 [==============================] - 3s 47us/sample - loss: 0.1912 - accuracy: 0.9471 - val_loss: 0.1897 - val_accuracy: 0.9474\n",
      "Epoch 6/15\n",
      "60000/60000 [==============================] - 3s 47us/sample - loss: 0.1684 - accuracy: 0.9528 - val_loss: 0.1716 - val_accuracy: 0.9506\n",
      "Epoch 7/15\n",
      "60000/60000 [==============================] - 3s 47us/sample - loss: 0.1511 - accuracy: 0.9577 - val_loss: 0.1614 - val_accuracy: 0.9529\n",
      "Epoch 8/15\n",
      "60000/60000 [==============================] - 3s 46us/sample - loss: 0.1373 - accuracy: 0.9609 - val_loss: 0.1527 - val_accuracy: 0.9570\n",
      "Epoch 9/15\n",
      "60000/60000 [==============================] - 3s 45us/sample - loss: 0.1259 - accuracy: 0.9640 - val_loss: 0.1427 - val_accuracy: 0.9581\n",
      "Epoch 10/15\n",
      "60000/60000 [==============================] - 3s 54us/sample - loss: 0.1171 - accuracy: 0.9668 - val_loss: 0.1395 - val_accuracy: 0.9595\n",
      "Epoch 11/15\n",
      "60000/60000 [==============================] - 3s 53us/sample - loss: 0.1093 - accuracy: 0.9687 - val_loss: 0.1345 - val_accuracy: 0.9600\n",
      "Epoch 12/15\n",
      "60000/60000 [==============================] - 3s 52us/sample - loss: 0.1026 - accuracy: 0.9709 - val_loss: 0.1313 - val_accuracy: 0.9608\n",
      "Epoch 13/15\n",
      "60000/60000 [==============================] - 3s 52us/sample - loss: 0.0965 - accuracy: 0.9725 - val_loss: 0.1300 - val_accuracy: 0.9617\n",
      "Epoch 14/15\n",
      "60000/60000 [==============================] - 3s 54us/sample - loss: 0.0914 - accuracy: 0.9748 - val_loss: 0.1279 - val_accuracy: 0.9629\n",
      "Epoch 15/15\n",
      "60000/60000 [==============================] - 3s 52us/sample - loss: 0.0864 - accuracy: 0.9758 - val_loss: 0.1241 - val_accuracy: 0.9627\n"
     ]
    }
   ],
   "source": [
    "history=model.fit(xtrain,ytrain,batch_size=64,epochs=15,validation_data=(xtest,ytest))"
   ]
  },
  {
   "cell_type": "code",
   "execution_count": 71,
   "metadata": {},
   "outputs": [
    {
     "name": "stdout",
     "output_type": "stream",
     "text": [
      "10000/10000 [==============================] - 0s 46us/sample - loss: 0.1241 - accuracy: 0.9627\n",
      "0.12405707200989127\n",
      "0.9627\n"
     ]
    }
   ],
   "source": [
    "score=model.evaluate(xtest,ytest,verbose=1)\n",
    "print(score[0])\n",
    "print(score[1])"
   ]
  },
  {
   "cell_type": "code",
   "execution_count": 72,
   "metadata": {},
   "outputs": [
    {
     "data": {
      "image/png": "[encoded data removed]",
      "text/plain": [
       "<matplotlib.figure.Figure at 0x1925eae3dd8>"
      ]
     },
     "metadata": {},
     "output_type": "display_data"
    }
   ],
   "source": [
    "plt.plot(history.history['accuracy'])\n",
    "plt.plot(history.history['val_accuracy'])\n",
    "plt.title('model accuracy')\n",
    "plt.ylabel('accuracy')\n",
    "plt.xlabel('epoch')\n",
    "plt.legend(['train', 'test'])\n",
    "plt.show()"
   ]
  },
  {
   "cell_type": "code",
   "execution_count": 73,
   "metadata": {},
   "outputs": [
    {
     "data": {
      "image/png": "[encoded data removed]",
      "text/plain": [
       "<matplotlib.figure.Figure at 0x1925eb345f8>"
      ]
     },
     "metadata": {},
     "output_type": "display_data"
    }
   ],
   "source": [
    "plt.plot(history.history['loss'])\n",
    "plt.plot(history.history['val_loss'])\n",
    "plt.title('model loss')\n",
    "plt.ylabel('loss')\n",
    "plt.xlabel('epoch')\n",
    "plt.legend(['train loss', 'test loss'], loc='upper right')\n",
    "plt.show()"
   ]
  },
  {
   "cell_type": "code",
   "execution_count": null,
   "metadata": {},
   "outputs": [],
   "source": []
  }
 ],
 "metadata": {
  "kernelspec": {
   "display_name": "Python 3",
   "language": "python",
   "name": "python3"
  },
  "language_info": {
   "codemirror_mode": {
    "name": "ipython",
    "version": 3
   },
   "file_extension": ".py",
   "mimetype": "text/x-python",
   "name": "python",
   "nbconvert_exporter": "python",
   "pygments_lexer": "ipython3",
   "version": "3.6.4"
  }
 },
 "nbformat": 4,
 "nbformat_minor": 2
}
