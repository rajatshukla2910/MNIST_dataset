{
 "cells": [
  {
   "cell_type": "code",
   "execution_count": 81,
   "metadata": {},
   "outputs": [],
   "source": [
    "from keras.utils import np_utils\n",
    "from keras.datasets import mnist\n",
    "import seaborn as sns\n",
    "import matplotlib.pyplot as plt"
   ]
  },
  {
   "cell_type": "code",
   "execution_count": 82,
   "metadata": {},
   "outputs": [
    {
     "name": "stdout",
     "output_type": "stream",
     "text": [
      "(28, 28)\n"
     ]
    },
    {
     "data": {
      "image/png": "[encoded data removed]",
      "text/plain": [
       "<matplotlib.figure.Figure at 0x204054cba20>"
      ]
     },
     "metadata": {},
     "output_type": "display_data"
    }
   ],
   "source": [
    "#splitting data into trainig and testing \n",
    "(xtrain,ytrain),(xtest,ytest)=mnist.load_data()\n",
    "\n",
    "# just to plot an image \n",
    "import matplotlib.image as mpimg\n",
    "print(xtrain[1].shape)\n",
    "imgplot = plt.imshow(xtrain[5])\n",
    "plt.show()"
   ]
  },
  {
   "cell_type": "code",
   "execution_count": 83,
   "metadata": {},
   "outputs": [],
   "source": [
    "\n",
    "\n",
    "xtrain=xtrain.reshape(xtrain.shape[0],xtrain.shape[1]*xtrain.shape[2])\n",
    "xtest=xtest.reshape(xtest.shape[0],xtest.shape[1]*xtest.shape[2])\n"
   ]
  },
  {
   "cell_type": "code",
   "execution_count": 84,
   "metadata": {},
   "outputs": [
    {
     "name": "stdout",
     "output_type": "stream",
     "text": [
      "(60000, 784)\n",
      "(10000, 784)\n"
     ]
    }
   ],
   "source": [
    "# data Normalisation\n",
    "xtrain=xtrain/255\n",
    "xtest=xtest/255\n",
    "print(xtrain.shape)\n",
    "print(xtest.shape)"
   ]
  },
  {
   "cell_type": "code",
   "execution_count": 85,
   "metadata": {},
   "outputs": [
    {
     "name": "stdout",
     "output_type": "stream",
     "text": [
      "4\n",
      "9\n",
      "[0. 0. 0. 0. 1. 0. 0. 0. 0. 0.]\n",
      "[0. 0. 0. 0. 0. 0. 0. 0. 0. 1.]\n"
     ]
    }
   ],
   "source": [
    "#  convert  to one hot encoding\n",
    "print(ytrain[9])\n",
    "print(ytest[9])\n",
    "ytrain=np_utils.to_categorical(ytrain,10)\n",
    "ytest=np_utils.to_categorical(ytest,10)\n",
    "print(ytrain[9])\n",
    "print(ytest[9])"
   ]
  },
  {
   "cell_type": "code",
   "execution_count": null,
   "metadata": {},
   "outputs": [],
   "source": []
  },
  {
   "cell_type": "code",
   "execution_count": 86,
   "metadata": {},
   "outputs": [],
   "source": [
    "from tensorflow.keras.models import Sequential\n",
    "from tensorflow.keras.layers import Dense, Activation\n",
    "from keras.initializers import RandomNormal\n"
   ]
  },
  {
   "cell_type": "code",
   "execution_count": 87,
   "metadata": {},
   "outputs": [],
   "source": [
    "model = Sequential()\n",
    "model.add(Dense(10,input_dim=784,activation='softmax')) # 10 is the output dimension(as we have 0 to 9 digits to classify)"
   ]
  },
  {
   "cell_type": "code",
   "execution_count": 88,
   "metadata": {},
   "outputs": [],
   "source": [
    "model.compile(optimizer='adam',loss='categorical_crossentropy', metrics=['accuracy'])"
   ]
  },
  {
   "cell_type": "code",
   "execution_count": 89,
   "metadata": {},
   "outputs": [
    {
     "name": "stdout",
     "output_type": "stream",
     "text": [
      "Train on 60000 samples, validate on 10000 samples\n",
      "Epoch 1/15\n",
      "60000/60000 [==============================] - 5s 78us/sample - loss: 0.8692 - accuracy: 0.7882 - val_loss: 0.4734 - val_accuracy: 0.8833\n",
      "Epoch 2/15\n",
      "60000/60000 [==============================] - 1s 23us/sample - loss: 0.4301 - accuracy: 0.8881 - val_loss: 0.3672 - val_accuracy: 0.9065\n",
      "Epoch 3/15\n",
      "60000/60000 [==============================] - 1s 25us/sample - loss: 0.3624 - accuracy: 0.9026 - val_loss: 0.3289 - val_accuracy: 0.9112\n",
      "Epoch 4/15\n",
      "60000/60000 [==============================] - 1s 25us/sample - loss: 0.3313 - accuracy: 0.9094 - val_loss: 0.3083 - val_accuracy: 0.9165\n",
      "Epoch 5/15\n",
      "60000/60000 [==============================] - 2s 25us/sample - loss: 0.3130 - accuracy: 0.9140 - val_loss: 0.2955 - val_accuracy: 0.9178\n",
      "Epoch 6/15\n",
      "60000/60000 [==============================] - 2s 25us/sample - loss: 0.3006 - accuracy: 0.9164 - val_loss: 0.2882 - val_accuracy: 0.9200\n",
      "Epoch 7/15\n",
      "60000/60000 [==============================] - 2s 25us/sample - loss: 0.2920 - accuracy: 0.9188 - val_loss: 0.2818 - val_accuracy: 0.9228\n",
      "Epoch 8/15\n",
      "60000/60000 [==============================] - 1s 24us/sample - loss: 0.2852 - accuracy: 0.9208 - val_loss: 0.2794 - val_accuracy: 0.9239\n",
      "Epoch 9/15\n",
      "60000/60000 [==============================] - 1s 24us/sample - loss: 0.2798 - accuracy: 0.9225 - val_loss: 0.2745 - val_accuracy: 0.9246\n",
      "Epoch 10/15\n",
      "60000/60000 [==============================] - 1s 24us/sample - loss: 0.2754 - accuracy: 0.9239 - val_loss: 0.2720 - val_accuracy: 0.9249\n",
      "Epoch 11/15\n",
      "60000/60000 [==============================] - 1s 25us/sample - loss: 0.2717 - accuracy: 0.9242 - val_loss: 0.2705 - val_accuracy: 0.9260\n",
      "Epoch 12/15\n",
      "60000/60000 [==============================] - 1s 25us/sample - loss: 0.2683 - accuracy: 0.9256 - val_loss: 0.2683 - val_accuracy: 0.9255\n",
      "Epoch 13/15\n",
      "60000/60000 [==============================] - 1s 25us/sample - loss: 0.2655 - accuracy: 0.9262 - val_loss: 0.2678 - val_accuracy: 0.9253\n",
      "Epoch 14/15\n",
      "60000/60000 [==============================] - 1s 24us/sample - loss: 0.2631 - accuracy: 0.9269 - val_loss: 0.2660 - val_accuracy: 0.9263\n",
      "Epoch 15/15\n",
      "60000/60000 [==============================] - 1s 24us/sample - loss: 0.2609 - accuracy: 0.9274 - val_loss: 0.2649 - val_accuracy: 0.9269\n"
     ]
    }
   ],
   "source": [
    "history=model.fit(xtrain,ytrain,batch_size=256,epochs=15,validation_data=(xtest,ytest))"
   ]
  },
  {
   "cell_type": "code",
   "execution_count": 90,
   "metadata": {},
   "outputs": [
    {
     "name": "stdout",
     "output_type": "stream",
     "text": [
      "10000/10000 [==============================] - 0s 42us/sample - loss: 0.2649 - accuracy: 0.9269\n",
      "0.2649122628092766\n",
      "0.9269\n"
     ]
    }
   ],
   "source": [
    "score=model.evaluate(xtest,ytest,verbose=1)\n",
    "print(score[0])\n",
    "print(score[1])"
   ]
  },
  {
   "cell_type": "code",
   "execution_count": 91,
   "metadata": {},
   "outputs": [
    {
     "data": {
      "image/png": "[encoded data removed]",
      "text/plain": [
       "<matplotlib.figure.Figure at 0x20400805160>"
      ]
     },
     "metadata": {},
     "output_type": "display_data"
    }
   ],
   "source": [
    "\n",
    "\n",
    "plt.plot(history.history['accuracy'])\n",
    "plt.plot(history.history['val_accuracy'])\n",
    "plt.title('model accuracy')\n",
    "plt.ylabel('accuracy')\n",
    "plt.xlabel('epoch')\n",
    "plt.legend(['train', 'test'])\n",
    "plt.show()"
   ]
  },
  {
   "cell_type": "code",
   "execution_count": 92,
   "metadata": {},
   "outputs": [
    {
     "data": {
      "image/png": "[encoded data removed]",
      "text/plain": [
       "<matplotlib.figure.Figure at 0x204007e9630>"
      ]
     },
     "metadata": {},
     "output_type": "display_data"
    }
   ],
   "source": [
    "plt.plot(history.history['loss'])\n",
    "plt.plot(history.history['val_loss'])\n",
    "plt.title('model loss')\n",
    "plt.ylabel('loss')\n",
    "plt.xlabel('epoch')\n",
    "plt.legend(['train loss', 'test loss'], loc='upper right')\n",
    "plt.show()"
   ]
  },
  {
   "cell_type": "code",
   "execution_count": null,
   "metadata": {},
   "outputs": [],
   "source": []
  },
  {
   "cell_type": "code",
   "execution_count": null,
   "metadata": {},
   "outputs": [],
   "source": []
  }
 ],
 "metadata": {
  "kernelspec": {
   "display_name": "Python 3",
   "language": "python",
   "name": "python3"
  },
  "language_info": {
   "codemirror_mode": {
    "name": "ipython",
    "version": 3
   },
   "file_extension": ".py",
   "mimetype": "text/x-python",
   "name": "python",
   "nbconvert_exporter": "python",
   "pygments_lexer": "ipython3",
   "version": "3.6.4"
  }
 },
 "nbformat": 4,
 "nbformat_minor": 2
}
